{
 "cells": [
  {
   "cell_type": "code",
   "execution_count": 29,
   "id": "9bbdc122",
   "metadata": {},
   "outputs": [],
   "source": [
    "import pandas as pd\n",
    "import matplotlib.pyplot as plt\n",
    "import seaborn as sns\n",
    "import plotly.express as px"
   ]
  },
  {
   "cell_type": "code",
   "execution_count": 2,
   "id": "a59993ef",
   "metadata": {},
   "outputs": [
    {
     "data": {
      "text/html": [
       "<div>\n",
       "<style scoped>\n",
       "    .dataframe tbody tr th:only-of-type {\n",
       "        vertical-align: middle;\n",
       "    }\n",
       "\n",
       "    .dataframe tbody tr th {\n",
       "        vertical-align: top;\n",
       "    }\n",
       "\n",
       "    .dataframe thead th {\n",
       "        text-align: right;\n",
       "    }\n",
       "</style>\n",
       "<table border=\"1\" class=\"dataframe\">\n",
       "  <thead>\n",
       "    <tr style=\"text-align: right;\">\n",
       "      <th></th>\n",
       "      <th>Unnamed: 3</th>\n",
       "      <th>Unnamed: 11</th>\n",
       "      <th>Unnamed: 17</th>\n",
       "    </tr>\n",
       "  </thead>\n",
       "  <tbody>\n",
       "    <tr>\n",
       "      <th>0</th>\n",
       "      <td>sector</td>\n",
       "      <td>YEAR</td>\n",
       "      <td>Ransomware</td>\n",
       "    </tr>\n",
       "    <tr>\n",
       "      <th>1</th>\n",
       "      <td>NaN</td>\n",
       "      <td>NaN</td>\n",
       "      <td>NaN</td>\n",
       "    </tr>\n",
       "    <tr>\n",
       "      <th>2</th>\n",
       "      <td>tech</td>\n",
       "      <td>2021</td>\n",
       "      <td>REvil</td>\n",
       "    </tr>\n",
       "    <tr>\n",
       "      <th>3</th>\n",
       "      <td>NaN</td>\n",
       "      <td>2021</td>\n",
       "      <td>unknown</td>\n",
       "    </tr>\n",
       "    <tr>\n",
       "      <th>4</th>\n",
       "      <td>healthcare</td>\n",
       "      <td>2021</td>\n",
       "      <td>REvil</td>\n",
       "    </tr>\n",
       "    <tr>\n",
       "      <th>...</th>\n",
       "      <td>...</td>\n",
       "      <td>...</td>\n",
       "      <td>...</td>\n",
       "    </tr>\n",
       "    <tr>\n",
       "      <th>611</th>\n",
       "      <td>government</td>\n",
       "      <td>2016</td>\n",
       "      <td>Not revealed</td>\n",
       "    </tr>\n",
       "    <tr>\n",
       "      <th>612</th>\n",
       "      <td>finance</td>\n",
       "      <td>2015</td>\n",
       "      <td>Armada Collective</td>\n",
       "    </tr>\n",
       "    <tr>\n",
       "      <th>613</th>\n",
       "      <td>legal</td>\n",
       "      <td>2015</td>\n",
       "      <td>CryptoWall</td>\n",
       "    </tr>\n",
       "    <tr>\n",
       "      <th>614</th>\n",
       "      <td>government</td>\n",
       "      <td>2014</td>\n",
       "      <td>CryptoWall</td>\n",
       "    </tr>\n",
       "    <tr>\n",
       "      <th>615</th>\n",
       "      <td>mixed</td>\n",
       "      <td>2014</td>\n",
       "      <td>Not revealed</td>\n",
       "    </tr>\n",
       "  </tbody>\n",
       "</table>\n",
       "<p>616 rows × 3 columns</p>\n",
       "</div>"
      ],
      "text/plain": [
       "     Unnamed: 3 Unnamed: 11        Unnamed: 17\n",
       "0        sector        YEAR         Ransomware\n",
       "1           NaN         NaN                NaN\n",
       "2          tech        2021              REvil\n",
       "3           NaN        2021            unknown\n",
       "4    healthcare        2021              REvil\n",
       "..          ...         ...                ...\n",
       "611  government        2016       Not revealed\n",
       "612     finance        2015  Armada Collective\n",
       "613       legal        2015         CryptoWall\n",
       "614  government        2014         CryptoWall\n",
       "615       mixed        2014       Not revealed\n",
       "\n",
       "[616 rows x 3 columns]"
      ]
     },
     "execution_count": 2,
     "metadata": {},
     "output_type": "execute_result"
    }
   ],
   "source": [
    "df=pd.read_excel('Aya 1.xlsx',usecols=['Unnamed: 3','Unnamed: 11','Unnamed: 17'])\n",
    "df"
   ]
  },
  {
   "cell_type": "code",
   "execution_count": 3,
   "id": "ddd818e6",
   "metadata": {},
   "outputs": [
    {
     "data": {
      "text/plain": [
       "Index(['Unnamed: 3', 'Unnamed: 11', 'Unnamed: 17'], dtype='object')"
      ]
     },
     "execution_count": 3,
     "metadata": {},
     "output_type": "execute_result"
    }
   ],
   "source": [
    "df.columns"
   ]
  },
  {
   "cell_type": "code",
   "execution_count": 4,
   "id": "56cde30a",
   "metadata": {},
   "outputs": [],
   "source": [
    "df.rename(columns={'Unnamed: 11':'Year', 'Unnamed: 3':'Sector', 'Unnamed: 17':'Ransomware'},inplace=True)"
   ]
  },
  {
   "cell_type": "code",
   "execution_count": 5,
   "id": "5bd87c10",
   "metadata": {},
   "outputs": [
    {
     "data": {
      "text/html": [
       "<div>\n",
       "<style scoped>\n",
       "    .dataframe tbody tr th:only-of-type {\n",
       "        vertical-align: middle;\n",
       "    }\n",
       "\n",
       "    .dataframe tbody tr th {\n",
       "        vertical-align: top;\n",
       "    }\n",
       "\n",
       "    .dataframe thead th {\n",
       "        text-align: right;\n",
       "    }\n",
       "</style>\n",
       "<table border=\"1\" class=\"dataframe\">\n",
       "  <thead>\n",
       "    <tr style=\"text-align: right;\">\n",
       "      <th></th>\n",
       "      <th>Sector</th>\n",
       "      <th>Year</th>\n",
       "      <th>Ransomware</th>\n",
       "    </tr>\n",
       "  </thead>\n",
       "  <tbody>\n",
       "    <tr>\n",
       "      <th>0</th>\n",
       "      <td>sector</td>\n",
       "      <td>YEAR</td>\n",
       "      <td>Ransomware</td>\n",
       "    </tr>\n",
       "    <tr>\n",
       "      <th>1</th>\n",
       "      <td>NaN</td>\n",
       "      <td>NaN</td>\n",
       "      <td>NaN</td>\n",
       "    </tr>\n",
       "    <tr>\n",
       "      <th>2</th>\n",
       "      <td>tech</td>\n",
       "      <td>2021</td>\n",
       "      <td>REvil</td>\n",
       "    </tr>\n",
       "    <tr>\n",
       "      <th>3</th>\n",
       "      <td>NaN</td>\n",
       "      <td>2021</td>\n",
       "      <td>unknown</td>\n",
       "    </tr>\n",
       "    <tr>\n",
       "      <th>4</th>\n",
       "      <td>healthcare</td>\n",
       "      <td>2021</td>\n",
       "      <td>REvil</td>\n",
       "    </tr>\n",
       "    <tr>\n",
       "      <th>...</th>\n",
       "      <td>...</td>\n",
       "      <td>...</td>\n",
       "      <td>...</td>\n",
       "    </tr>\n",
       "    <tr>\n",
       "      <th>611</th>\n",
       "      <td>government</td>\n",
       "      <td>2016</td>\n",
       "      <td>Not revealed</td>\n",
       "    </tr>\n",
       "    <tr>\n",
       "      <th>612</th>\n",
       "      <td>finance</td>\n",
       "      <td>2015</td>\n",
       "      <td>Armada Collective</td>\n",
       "    </tr>\n",
       "    <tr>\n",
       "      <th>613</th>\n",
       "      <td>legal</td>\n",
       "      <td>2015</td>\n",
       "      <td>CryptoWall</td>\n",
       "    </tr>\n",
       "    <tr>\n",
       "      <th>614</th>\n",
       "      <td>government</td>\n",
       "      <td>2014</td>\n",
       "      <td>CryptoWall</td>\n",
       "    </tr>\n",
       "    <tr>\n",
       "      <th>615</th>\n",
       "      <td>mixed</td>\n",
       "      <td>2014</td>\n",
       "      <td>Not revealed</td>\n",
       "    </tr>\n",
       "  </tbody>\n",
       "</table>\n",
       "<p>616 rows × 3 columns</p>\n",
       "</div>"
      ],
      "text/plain": [
       "         Sector  Year         Ransomware\n",
       "0        sector  YEAR         Ransomware\n",
       "1           NaN   NaN                NaN\n",
       "2          tech  2021              REvil\n",
       "3           NaN  2021            unknown\n",
       "4    healthcare  2021              REvil\n",
       "..          ...   ...                ...\n",
       "611  government  2016       Not revealed\n",
       "612     finance  2015  Armada Collective\n",
       "613       legal  2015         CryptoWall\n",
       "614  government  2014         CryptoWall\n",
       "615       mixed  2014       Not revealed\n",
       "\n",
       "[616 rows x 3 columns]"
      ]
     },
     "execution_count": 5,
     "metadata": {},
     "output_type": "execute_result"
    }
   ],
   "source": [
    "df"
   ]
  },
  {
   "cell_type": "code",
   "execution_count": 6,
   "id": "9b88872f",
   "metadata": {},
   "outputs": [
    {
     "data": {
      "text/plain": [
       "(616, 3)"
      ]
     },
     "execution_count": 6,
     "metadata": {},
     "output_type": "execute_result"
    }
   ],
   "source": [
    "df.shape"
   ]
  },
  {
   "cell_type": "code",
   "execution_count": 7,
   "id": "82a5752c",
   "metadata": {},
   "outputs": [
    {
     "name": "stdout",
     "output_type": "stream",
     "text": [
      "<class 'pandas.core.frame.DataFrame'>\n",
      "RangeIndex: 616 entries, 0 to 615\n",
      "Data columns (total 3 columns):\n",
      " #   Column      Non-Null Count  Dtype \n",
      "---  ------      --------------  ----- \n",
      " 0   Sector      606 non-null    object\n",
      " 1   Year        613 non-null    object\n",
      " 2   Ransomware  609 non-null    object\n",
      "dtypes: object(3)\n",
      "memory usage: 14.6+ KB\n"
     ]
    }
   ],
   "source": [
    "df.info()"
   ]
  },
  {
   "cell_type": "code",
   "execution_count": 8,
   "id": "29d0c6e5",
   "metadata": {},
   "outputs": [
    {
     "data": {
      "text/html": [
       "<div>\n",
       "<style scoped>\n",
       "    .dataframe tbody tr th:only-of-type {\n",
       "        vertical-align: middle;\n",
       "    }\n",
       "\n",
       "    .dataframe tbody tr th {\n",
       "        vertical-align: top;\n",
       "    }\n",
       "\n",
       "    .dataframe thead th {\n",
       "        text-align: right;\n",
       "    }\n",
       "</style>\n",
       "<table border=\"1\" class=\"dataframe\">\n",
       "  <thead>\n",
       "    <tr style=\"text-align: right;\">\n",
       "      <th></th>\n",
       "      <th>Sector</th>\n",
       "      <th>Year</th>\n",
       "      <th>Ransomware</th>\n",
       "    </tr>\n",
       "  </thead>\n",
       "  <tbody>\n",
       "    <tr>\n",
       "      <th>0</th>\n",
       "      <td>sector</td>\n",
       "      <td>YEAR</td>\n",
       "      <td>Ransomware</td>\n",
       "    </tr>\n",
       "    <tr>\n",
       "      <th>1</th>\n",
       "      <td>NaN</td>\n",
       "      <td>NaN</td>\n",
       "      <td>NaN</td>\n",
       "    </tr>\n",
       "    <tr>\n",
       "      <th>2</th>\n",
       "      <td>tech</td>\n",
       "      <td>2021</td>\n",
       "      <td>REvil</td>\n",
       "    </tr>\n",
       "    <tr>\n",
       "      <th>3</th>\n",
       "      <td>NaN</td>\n",
       "      <td>2021</td>\n",
       "      <td>unknown</td>\n",
       "    </tr>\n",
       "    <tr>\n",
       "      <th>4</th>\n",
       "      <td>healthcare</td>\n",
       "      <td>2021</td>\n",
       "      <td>REvil</td>\n",
       "    </tr>\n",
       "  </tbody>\n",
       "</table>\n",
       "</div>"
      ],
      "text/plain": [
       "       Sector  Year  Ransomware\n",
       "0      sector  YEAR  Ransomware\n",
       "1         NaN   NaN         NaN\n",
       "2        tech  2021       REvil\n",
       "3         NaN  2021     unknown\n",
       "4  healthcare  2021       REvil"
      ]
     },
     "execution_count": 8,
     "metadata": {},
     "output_type": "execute_result"
    }
   ],
   "source": [
    "df.head()"
   ]
  },
  {
   "cell_type": "code",
   "execution_count": 9,
   "id": "fed35d4a",
   "metadata": {},
   "outputs": [
    {
     "data": {
      "text/html": [
       "<div>\n",
       "<style scoped>\n",
       "    .dataframe tbody tr th:only-of-type {\n",
       "        vertical-align: middle;\n",
       "    }\n",
       "\n",
       "    .dataframe tbody tr th {\n",
       "        vertical-align: top;\n",
       "    }\n",
       "\n",
       "    .dataframe thead th {\n",
       "        text-align: right;\n",
       "    }\n",
       "</style>\n",
       "<table border=\"1\" class=\"dataframe\">\n",
       "  <thead>\n",
       "    <tr style=\"text-align: right;\">\n",
       "      <th></th>\n",
       "      <th>Sector</th>\n",
       "      <th>Year</th>\n",
       "      <th>Ransomware</th>\n",
       "    </tr>\n",
       "  </thead>\n",
       "  <tbody>\n",
       "    <tr>\n",
       "      <th>611</th>\n",
       "      <td>government</td>\n",
       "      <td>2016</td>\n",
       "      <td>Not revealed</td>\n",
       "    </tr>\n",
       "    <tr>\n",
       "      <th>612</th>\n",
       "      <td>finance</td>\n",
       "      <td>2015</td>\n",
       "      <td>Armada Collective</td>\n",
       "    </tr>\n",
       "    <tr>\n",
       "      <th>613</th>\n",
       "      <td>legal</td>\n",
       "      <td>2015</td>\n",
       "      <td>CryptoWall</td>\n",
       "    </tr>\n",
       "    <tr>\n",
       "      <th>614</th>\n",
       "      <td>government</td>\n",
       "      <td>2014</td>\n",
       "      <td>CryptoWall</td>\n",
       "    </tr>\n",
       "    <tr>\n",
       "      <th>615</th>\n",
       "      <td>mixed</td>\n",
       "      <td>2014</td>\n",
       "      <td>Not revealed</td>\n",
       "    </tr>\n",
       "  </tbody>\n",
       "</table>\n",
       "</div>"
      ],
      "text/plain": [
       "         Sector  Year         Ransomware\n",
       "611  government  2016       Not revealed\n",
       "612     finance  2015  Armada Collective\n",
       "613       legal  2015         CryptoWall\n",
       "614  government  2014         CryptoWall\n",
       "615       mixed  2014       Not revealed"
      ]
     },
     "execution_count": 9,
     "metadata": {},
     "output_type": "execute_result"
    }
   ],
   "source": [
    "df.tail()"
   ]
  },
  {
   "cell_type": "code",
   "execution_count": 10,
   "id": "b3d99631",
   "metadata": {
    "scrolled": false
   },
   "outputs": [
    {
     "data": {
      "text/html": [
       "<div>\n",
       "<style scoped>\n",
       "    .dataframe tbody tr th:only-of-type {\n",
       "        vertical-align: middle;\n",
       "    }\n",
       "\n",
       "    .dataframe tbody tr th {\n",
       "        vertical-align: top;\n",
       "    }\n",
       "\n",
       "    .dataframe thead th {\n",
       "        text-align: right;\n",
       "    }\n",
       "</style>\n",
       "<table border=\"1\" class=\"dataframe\">\n",
       "  <thead>\n",
       "    <tr style=\"text-align: right;\">\n",
       "      <th></th>\n",
       "      <th>Sector</th>\n",
       "      <th>Year</th>\n",
       "      <th>Ransomware</th>\n",
       "    </tr>\n",
       "  </thead>\n",
       "  <tbody>\n",
       "    <tr>\n",
       "      <th>count</th>\n",
       "      <td>606</td>\n",
       "      <td>613</td>\n",
       "      <td>609</td>\n",
       "    </tr>\n",
       "    <tr>\n",
       "      <th>unique</th>\n",
       "      <td>25</td>\n",
       "      <td>10</td>\n",
       "      <td>60</td>\n",
       "    </tr>\n",
       "    <tr>\n",
       "      <th>top</th>\n",
       "      <td>government</td>\n",
       "      <td>2020</td>\n",
       "      <td>Not revealed</td>\n",
       "    </tr>\n",
       "    <tr>\n",
       "      <th>freq</th>\n",
       "      <td>103</td>\n",
       "      <td>242</td>\n",
       "      <td>120</td>\n",
       "    </tr>\n",
       "  </tbody>\n",
       "</table>\n",
       "</div>"
      ],
      "text/plain": [
       "            Sector  Year    Ransomware\n",
       "count          606   613           609\n",
       "unique          25    10            60\n",
       "top     government  2020  Not revealed\n",
       "freq           103   242           120"
      ]
     },
     "execution_count": 10,
     "metadata": {},
     "output_type": "execute_result"
    }
   ],
   "source": [
    "df.describe()"
   ]
  },
  {
   "cell_type": "code",
   "execution_count": 11,
   "id": "44a23442",
   "metadata": {},
   "outputs": [
    {
     "data": {
      "text/plain": [
       "3"
      ]
     },
     "execution_count": 11,
     "metadata": {},
     "output_type": "execute_result"
    }
   ],
   "source": [
    "df['Year'].isnull().sum()"
   ]
  },
  {
   "cell_type": "code",
   "execution_count": 12,
   "id": "01cc436c",
   "metadata": {},
   "outputs": [
    {
     "data": {
      "text/plain": [
       "0    2020\n",
       "Name: Year, dtype: object"
      ]
     },
     "execution_count": 12,
     "metadata": {},
     "output_type": "execute_result"
    }
   ],
   "source": [
    "df['Year'].mode()"
   ]
  },
  {
   "cell_type": "code",
   "execution_count": 13,
   "id": "f085fe9d",
   "metadata": {},
   "outputs": [],
   "source": [
    "df['Year']=df['Year'].fillna(2020)"
   ]
  },
  {
   "cell_type": "code",
   "execution_count": 14,
   "id": "721b104e",
   "metadata": {},
   "outputs": [
    {
     "data": {
      "text/plain": [
       "0"
      ]
     },
     "execution_count": 14,
     "metadata": {},
     "output_type": "execute_result"
    }
   ],
   "source": [
    "df['Year'].isnull().sum()"
   ]
  },
  {
   "cell_type": "code",
   "execution_count": 15,
   "id": "de6c670c",
   "metadata": {},
   "outputs": [
    {
     "data": {
      "text/plain": [
       "10"
      ]
     },
     "execution_count": 15,
     "metadata": {},
     "output_type": "execute_result"
    }
   ],
   "source": [
    "df['Sector'].isnull().sum()"
   ]
  },
  {
   "cell_type": "code",
   "execution_count": 16,
   "id": "d7ea70d7",
   "metadata": {},
   "outputs": [
    {
     "data": {
      "text/plain": [
       "0    government\n",
       "Name: Sector, dtype: object"
      ]
     },
     "execution_count": 16,
     "metadata": {},
     "output_type": "execute_result"
    }
   ],
   "source": [
    "df['Sector'].mode()"
   ]
  },
  {
   "cell_type": "code",
   "execution_count": 17,
   "id": "8c44166d",
   "metadata": {},
   "outputs": [],
   "source": [
    "df['Sector']=df['Sector'].fillna('government')"
   ]
  },
  {
   "cell_type": "code",
   "execution_count": 18,
   "id": "497e3f70",
   "metadata": {},
   "outputs": [
    {
     "data": {
      "text/plain": [
       "7"
      ]
     },
     "execution_count": 18,
     "metadata": {},
     "output_type": "execute_result"
    }
   ],
   "source": [
    "df['Ransomware'].isnull().sum()"
   ]
  },
  {
   "cell_type": "code",
   "execution_count": 19,
   "id": "6d0ed05e",
   "metadata": {},
   "outputs": [
    {
     "data": {
      "text/plain": [
       "0    Not revealed\n",
       "Name: Ransomware, dtype: object"
      ]
     },
     "execution_count": 19,
     "metadata": {},
     "output_type": "execute_result"
    }
   ],
   "source": [
    "df['Ransomware'].mode()"
   ]
  },
  {
   "cell_type": "code",
   "execution_count": 20,
   "id": "d3a2572c",
   "metadata": {},
   "outputs": [],
   "source": [
    "df['Ransomware']=df['Ransomware'].fillna('Not revealed')"
   ]
  },
  {
   "cell_type": "code",
   "execution_count": 21,
   "id": "06117013",
   "metadata": {},
   "outputs": [],
   "source": [
    "df=df.drop(0, axis=0)"
   ]
  },
  {
   "cell_type": "code",
   "execution_count": 22,
   "id": "6b87d35d",
   "metadata": {
    "scrolled": false
   },
   "outputs": [
    {
     "data": {
      "text/html": [
       "<div>\n",
       "<style scoped>\n",
       "    .dataframe tbody tr th:only-of-type {\n",
       "        vertical-align: middle;\n",
       "    }\n",
       "\n",
       "    .dataframe tbody tr th {\n",
       "        vertical-align: top;\n",
       "    }\n",
       "\n",
       "    .dataframe thead th {\n",
       "        text-align: right;\n",
       "    }\n",
       "</style>\n",
       "<table border=\"1\" class=\"dataframe\">\n",
       "  <thead>\n",
       "    <tr style=\"text-align: right;\">\n",
       "      <th></th>\n",
       "      <th>Sector</th>\n",
       "      <th>Year</th>\n",
       "      <th>Ransomware</th>\n",
       "    </tr>\n",
       "  </thead>\n",
       "  <tbody>\n",
       "    <tr>\n",
       "      <th>1</th>\n",
       "      <td>government</td>\n",
       "      <td>2020</td>\n",
       "      <td>Not revealed</td>\n",
       "    </tr>\n",
       "    <tr>\n",
       "      <th>2</th>\n",
       "      <td>tech</td>\n",
       "      <td>2021</td>\n",
       "      <td>REvil</td>\n",
       "    </tr>\n",
       "    <tr>\n",
       "      <th>3</th>\n",
       "      <td>government</td>\n",
       "      <td>2021</td>\n",
       "      <td>unknown</td>\n",
       "    </tr>\n",
       "    <tr>\n",
       "      <th>4</th>\n",
       "      <td>healthcare</td>\n",
       "      <td>2021</td>\n",
       "      <td>REvil</td>\n",
       "    </tr>\n",
       "    <tr>\n",
       "      <th>5</th>\n",
       "      <td>government</td>\n",
       "      <td>2021</td>\n",
       "      <td>Ryuk</td>\n",
       "    </tr>\n",
       "    <tr>\n",
       "      <th>...</th>\n",
       "      <td>...</td>\n",
       "      <td>...</td>\n",
       "      <td>...</td>\n",
       "    </tr>\n",
       "    <tr>\n",
       "      <th>611</th>\n",
       "      <td>government</td>\n",
       "      <td>2016</td>\n",
       "      <td>Not revealed</td>\n",
       "    </tr>\n",
       "    <tr>\n",
       "      <th>612</th>\n",
       "      <td>finance</td>\n",
       "      <td>2015</td>\n",
       "      <td>Armada Collective</td>\n",
       "    </tr>\n",
       "    <tr>\n",
       "      <th>613</th>\n",
       "      <td>legal</td>\n",
       "      <td>2015</td>\n",
       "      <td>CryptoWall</td>\n",
       "    </tr>\n",
       "    <tr>\n",
       "      <th>614</th>\n",
       "      <td>government</td>\n",
       "      <td>2014</td>\n",
       "      <td>CryptoWall</td>\n",
       "    </tr>\n",
       "    <tr>\n",
       "      <th>615</th>\n",
       "      <td>mixed</td>\n",
       "      <td>2014</td>\n",
       "      <td>Not revealed</td>\n",
       "    </tr>\n",
       "  </tbody>\n",
       "</table>\n",
       "<p>615 rows × 3 columns</p>\n",
       "</div>"
      ],
      "text/plain": [
       "         Sector  Year         Ransomware\n",
       "1    government  2020       Not revealed\n",
       "2          tech  2021              REvil\n",
       "3    government  2021            unknown\n",
       "4    healthcare  2021              REvil\n",
       "5    government  2021               Ryuk\n",
       "..          ...   ...                ...\n",
       "611  government  2016       Not revealed\n",
       "612     finance  2015  Armada Collective\n",
       "613       legal  2015         CryptoWall\n",
       "614  government  2014         CryptoWall\n",
       "615       mixed  2014       Not revealed\n",
       "\n",
       "[615 rows x 3 columns]"
      ]
     },
     "execution_count": 22,
     "metadata": {},
     "output_type": "execute_result"
    }
   ],
   "source": [
    "df"
   ]
  },
  {
   "cell_type": "code",
   "execution_count": 23,
   "id": "0ba38f38",
   "metadata": {},
   "outputs": [
    {
     "data": {
      "text/plain": [
       "'1      2020\\n2      2021\\n3      2021\\n4      2021\\n5      2021\\n       ... \\n611    2016\\n612    2015\\n613    2015\\n614    2014\\n615    2014\\nName: Year, Length: 615, dtype: object'"
      ]
     },
     "execution_count": 23,
     "metadata": {},
     "output_type": "execute_result"
    }
   ],
   "source": [
    "str(df['Year'])"
   ]
  },
  {
   "cell_type": "code",
   "execution_count": 24,
   "id": "c6225e39",
   "metadata": {},
   "outputs": [
    {
     "name": "stdout",
     "output_type": "stream",
     "text": [
      "<class 'pandas.core.frame.DataFrame'>\n",
      "RangeIndex: 615 entries, 1 to 615\n",
      "Data columns (total 3 columns):\n",
      " #   Column      Non-Null Count  Dtype \n",
      "---  ------      --------------  ----- \n",
      " 0   Sector      615 non-null    object\n",
      " 1   Year        615 non-null    object\n",
      " 2   Ransomware  615 non-null    object\n",
      "dtypes: object(3)\n",
      "memory usage: 14.5+ KB\n"
     ]
    }
   ],
   "source": [
    "df.info()"
   ]
  },
  {
   "cell_type": "code",
   "execution_count": 30,
   "id": "528b947b",
   "metadata": {},
   "outputs": [
    {
     "data": {
      "text/html": [
       "<iframe\n",
       "    scrolling=\"no\"\n",
       "    width=\"100%\"\n",
       "    height=\"545px\"\n",
       "    src=\"iframe_figures/figure_30.html\"\n",
       "    frameborder=\"0\"\n",
       "    allowfullscreen\n",
       "></iframe>\n"
      ]
     },
     "metadata": {},
     "output_type": "display_data"
    }
   ],
   "source": [
    "fig = px.histogram(df, y='Year')\n",
    "fig.update_layout(\n",
    "    title='The year in which there were more attacks', \n",
    "    xaxis = dict(\n",
    "        showgrid=True, \n",
    "        rangeslider = dict(\n",
    "            visible=True, \n",
    "            thickness=0.05\n",
    "        )\n",
    "    ), \n",
    "    yaxis = dict(\n",
    "        showgrid=True\n",
    "    ), \n",
    "    legend = dict(\n",
    "        orientation='v'\n",
    "    ), \n",
    "    barmode='group', \n",
    "    paper_bgcolor='#FFFFFF'\n",
    ")\n",
    "fig.show(renderer=\"iframe\")"
   ]
  },
  {
   "cell_type": "code",
   "execution_count": 31,
   "id": "4289cd78",
   "metadata": {},
   "outputs": [
    {
     "data": {
      "text/html": [
       "<iframe\n",
       "    scrolling=\"no\"\n",
       "    width=\"100%\"\n",
       "    height=\"545px\"\n",
       "    src=\"iframe_figures/figure_31.html\"\n",
       "    frameborder=\"0\"\n",
       "    allowfullscreen\n",
       "></iframe>\n"
      ]
     },
     "metadata": {},
     "output_type": "display_data"
    }
   ],
   "source": [
    "fig = px.histogram(df, x='Year', color='Sector')\n",
    "fig.update_layout(\n",
    "    title='The number of times each sector is attacked each year', \n",
    "    xaxis = dict(\n",
    "        showgrid=True, \n",
    "        rangeslider = dict(\n",
    "            visible=True, \n",
    "            thickness=0.05\n",
    "        )\n",
    "    ), \n",
    "    yaxis = dict(\n",
    "        showgrid=True\n",
    "    ), \n",
    "    legend = dict(\n",
    "        orientation='v'\n",
    "    ), \n",
    "    barmode='group', \n",
    "    paper_bgcolor='#FFFFFF'\n",
    ")\n",
    "fig.show(renderer=\"iframe\")"
   ]
  },
  {
   "cell_type": "code",
   "execution_count": 32,
   "id": "6d409464",
   "metadata": {
    "scrolled": false
   },
   "outputs": [
    {
     "data": {
      "text/html": [
       "<iframe\n",
       "    scrolling=\"no\"\n",
       "    width=\"100%\"\n",
       "    height=\"545px\"\n",
       "    src=\"iframe_figures/figure_32.html\"\n",
       "    frameborder=\"0\"\n",
       "    allowfullscreen\n",
       "></iframe>\n"
      ]
     },
     "metadata": {},
     "output_type": "display_data"
    }
   ],
   "source": [
    "fig = px.histogram(df, y='Sector')\n",
    "fig.update_layout(\n",
    "    title='The number of times the attack was repeated on the sector', \n",
    "    xaxis = dict(\n",
    "        showgrid=True, \n",
    "        rangeslider = dict(\n",
    "            visible=True, \n",
    "            thickness=0.05\n",
    "        )\n",
    "    ), \n",
    "    yaxis = dict(\n",
    "        showgrid=True\n",
    "    ), \n",
    "    legend = dict(\n",
    "        orientation='v'\n",
    "    ), \n",
    "    barmode='group', \n",
    "    paper_bgcolor='#FFFFFF'\n",
    ")\n",
    "fig.show(renderer=\"iframe\")"
   ]
  },
  {
   "cell_type": "code",
   "execution_count": 33,
   "id": "6cbe39b2",
   "metadata": {},
   "outputs": [
    {
     "data": {
      "text/html": [
       "<iframe\n",
       "    scrolling=\"no\"\n",
       "    width=\"100%\"\n",
       "    height=\"545px\"\n",
       "    src=\"iframe_figures/figure_33.html\"\n",
       "    frameborder=\"0\"\n",
       "    allowfullscreen\n",
       "></iframe>\n"
      ]
     },
     "metadata": {},
     "output_type": "display_data"
    }
   ],
   "source": [
    "fig = px.histogram(df, y='Ransomware')\n",
    "fig.update_layout(\n",
    "    title='The number of repetitions of each attack', \n",
    "    xaxis = dict(\n",
    "        showgrid=True, \n",
    "        rangeslider = dict(\n",
    "            visible=True, \n",
    "            thickness=0.05\n",
    "        )\n",
    "    ), \n",
    "    yaxis = dict(\n",
    "        showgrid=True\n",
    "    ), \n",
    "    legend = dict(\n",
    "        orientation='v'\n",
    "    ), \n",
    "    barmode='group', \n",
    "    paper_bgcolor='#FFFFFF'\n",
    ")\n",
    "fig.show(renderer=\"iframe\")"
   ]
  },
  {
   "cell_type": "code",
   "execution_count": null,
   "id": "236b554e",
   "metadata": {},
   "outputs": [],
   "source": []
  },
  {
   "cell_type": "code",
   "execution_count": null,
   "id": "26982f90",
   "metadata": {},
   "outputs": [],
   "source": []
  }
 ],
 "metadata": {
  "kernelspec": {
   "display_name": "Python 3 (ipykernel)",
   "language": "python",
   "name": "python3"
  },
  "language_info": {
   "codemirror_mode": {
    "name": "ipython",
    "version": 3
   },
   "file_extension": ".py",
   "mimetype": "text/x-python",
   "name": "python",
   "nbconvert_exporter": "python",
   "pygments_lexer": "ipython3",
   "version": "3.9.12"
  }
 },
 "nbformat": 4,
 "nbformat_minor": 5
}
